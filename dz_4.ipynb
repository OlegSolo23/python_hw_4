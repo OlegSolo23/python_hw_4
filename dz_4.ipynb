{
 "cells": [
  {
   "cell_type": "code",
   "execution_count": null,
   "metadata": {},
   "outputs": [],
   "source": [
    "#Задача 1"
   ]
  },
  {
   "cell_type": "code",
   "execution_count": null,
   "metadata": {},
   "outputs": [],
   "source": [
    "data = [\n",
    "    [13, 25, 23, 34],\n",
    "    [45, 32, 44, 47],\n",
    "    [12, 33, 23, 95],\n",
    "    [13, 53, 34, 35]\n",
    "]"
   ]
  },
  {
   "cell_type": "code",
   "execution_count": null,
   "metadata": {},
   "outputs": [],
   "source": [
    "def cnt (data):\n",
    "    sum_=0\n",
    "    l = len(data)\n",
    "    for i in range(0,l):\n",
    "        sum_ += data[i][i]\n",
    "    return sum_    "
   ]
  },
  {
   "cell_type": "code",
   "execution_count": null,
   "metadata": {},
   "outputs": [],
   "source": [
    "cnt(data)"
   ]
  },
  {
   "cell_type": "code",
   "execution_count": null,
   "metadata": {},
   "outputs": [],
   "source": [
    "#Задача 2"
   ]
  },
  {
   "cell_type": "code",
   "execution_count": null,
   "metadata": {},
   "outputs": [],
   "source": [
    "def fibo (n):\n",
    "    fibo = 0\n",
    "    sum_fibo = 0\n",
    "    x = [0, 1]\n",
    "    for i in range(0, n-2):\n",
    "        l = len(x)\n",
    "        for j in range (l-2, l):\n",
    "            fibo += x[j]\n",
    "        x.append(fibo)\n",
    "        fibo = 0\n",
    "    sum_fibo = sum(x)  \n",
    "    return sum_fibo"
   ]
  },
  {
   "cell_type": "code",
   "execution_count": null,
   "metadata": {},
   "outputs": [],
   "source": [
    "#Задача 4, 5, 6"
   ]
  },
  {
   "cell_type": "code",
   "execution_count": 1,
   "metadata": {},
   "outputs": [],
   "source": [
    "documents = [\n",
    "    {'type': 'passport', 'number': '2207 876234', 'name': 'Василий Гупкин'},\n",
    "    {'type': 'invoice', 'number': '11-2', 'name': 'Геннадий Покемонов'},\n",
    "    {'type': 'insurance', 'number': '10006', 'name': 'Аристарх Павлов'}\n",
    "]\n",
    "directories = {\n",
    "    '1': ['2207 876234', '11-2', '5455 028765'],\n",
    "    '2': ['10006', '5400 028765', '5455 002299'],\n",
    "    '3': []\n",
    "}"
   ]
  },
  {
   "cell_type": "code",
   "execution_count": 11,
   "metadata": {},
   "outputs": [
    {
     "name": "stdout",
     "output_type": "stream",
     "text": [
      "Введите команду:\n"
     ]
    }
   ],
   "source": [
    "#Задача 4\n",
    "c = 0\n",
    "comand = input('Введите команду:')\n",
    "if comand == 'p':\n",
    "    l = len(documents)\n",
    "    doc_number = input('Введите номер документа:')\n",
    "    for i in documents:\n",
    "        if doc_number == i['number']:\n",
    "            print(i['name'])\n",
    "            break\n",
    "        else:\n",
    "            c += 1\n",
    "            continue  \n",
    "    if c == l:\n",
    "        print('Такого документа нет')\n",
    "elif comand == 's':\n",
    "    x = 0\n",
    "    l = len(directories)\n",
    "    doc_number = input('Введите номер документа:')\n",
    "    for k,v in directories.items():\n",
    "        for i in v:\n",
    "            if i == doc_number:\n",
    "                print('Номер стелажа:',k)\n",
    "                x = 1 #Попробовать через Х, а не С\n",
    "                break\n",
    "            else:\n",
    "                continue\n",
    "        if x == 1:\n",
    "            break\n",
    "        else:\n",
    "            c += 1\n",
    "            continue\n",
    "    if c == l:\n",
    "        print('Такого документа нет')\n",
    "#Задача 5        \n",
    "elif comand == 'l':\n",
    "    for i in documents:\n",
    "        a = \"\\\"\"+str(i['number'])+\"\\\"\"\n",
    "        b = \"\\\"\"+str(i['name'])+\"\\\"\"\n",
    "        print(i['type'], a, b)\n",
    "elif comand == 'as':\n",
    "    sh = input('Введите номер полки:')\n",
    "    if sh not in directories.keys():\n",
    "        directories[sh] = []\n",
    "    else:\n",
    "        print('Такая полка существует') \n",
    "#Задача 6        \n",
    "elif comand == 'd':        \n",
    "    l = len(documents)\n",
    "    doc_number = input('Введите номер документа:')\n",
    "    for i in documents:\n",
    "        if doc_number == i['number']:\n",
    "            documents.remove(i)\n",
    "            break\n",
    "        else:\n",
    "            c += 1\n",
    "            continue  \n",
    "    for v in directories.values():\n",
    "        for j in v:\n",
    "            if j == doc_number:\n",
    "                v.remove(j)\n",
    "            else: \n",
    "                continue\n",
    "    if c == l:\n",
    "        print('Такого документа нет') \n",
    "elif comand == 'm':\n",
    "    l = len(documents)\n",
    "    doc_number = input('Введите номер документа:')\n",
    "    sh = input('Введите номер полки:') \n",
    "    if sh not in directories.keys():\n",
    "        print('Такого номера полки нет') \n",
    "    for v in directories.values():\n",
    "        for j in v:\n",
    "            if j == doc_number:\n",
    "                v.remove(j)\n",
    "            else:\n",
    "                c += 1\n",
    "                continue\n",
    "    if c != l:\n",
    "        directories[sh].append(doc_number)\n",
    "    else:\n",
    "        print('Такого документа нет') \n",
    "elif comand == 'a':\n",
    "    dict_ = {}\n",
    "    doc_type = input('Введите тип документа:')\n",
    "    doc_number = input('Введите номер документа:')\n",
    "    man = input('Введите имя человека:')\n",
    "    sh = input('Введите номер полки:')\n",
    "    if sh not in directories.keys():\n",
    "        print('Такого номера полки нет')\n",
    "    dict_['type'] = doc_type\n",
    "    dict_['number'] = doc_number\n",
    "    dict_['name'] = man\n",
    "    documents.append(dict_)\n",
    "    directories[sh].append(doc_number)"
   ]
  },
  {
   "cell_type": "code",
   "execution_count": null,
   "metadata": {},
   "outputs": [],
   "source": []
  },
  {
   "cell_type": "code",
   "execution_count": null,
   "metadata": {},
   "outputs": [],
   "source": []
  },
  {
   "cell_type": "code",
   "execution_count": null,
   "metadata": {},
   "outputs": [],
   "source": []
  }
 ],
 "metadata": {
  "kernelspec": {
   "display_name": "Python 3",
   "language": "python",
   "name": "python3"
  },
  "language_info": {
   "codemirror_mode": {
    "name": "ipython",
    "version": 3
   },
   "file_extension": ".py",
   "mimetype": "text/x-python",
   "name": "python",
   "nbconvert_exporter": "python",
   "pygments_lexer": "ipython3",
   "version": "3.7.3"
  }
 },
 "nbformat": 4,
 "nbformat_minor": 2
}
