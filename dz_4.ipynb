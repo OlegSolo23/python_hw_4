{
 "cells": [
  {
   "cell_type": "code",
   "execution_count": 1,
   "metadata": {},
   "outputs": [],
   "source": [
    "documents = [\n",
    "    {'type': 'passport', 'number': '2207 876234', 'name': 'Василий Гупкин'},\n",
    "    {'type': 'invoice', 'number': '11-2', 'name': 'Геннадий Покемонов'},\n",
    "    {'type': 'insurance', 'number': '10006', 'name': 'Аристарх Павлов'}\n",
    "]\n",
    "directories = {\n",
    "    '1': ['2207 876234', '11-2', '5455 028765'],\n",
    "    '2': ['10006', '5400 028765', '5455 002299'],\n",
    "    '3': []\n",
    "}"
   ]
  },
  {
   "cell_type": "code",
   "execution_count": 2,
   "metadata": {},
   "outputs": [],
   "source": [
    "def def_p (doc_number):\n",
    "    c = 0\n",
    "    l = len(documents)\n",
    "    for i in documents:\n",
    "        if doc_number == i['number']:\n",
    "            print(i['name'])\n",
    "            break\n",
    "        else:\n",
    "            c += 1\n",
    "            continue  \n",
    "    if c == l:\n",
    "        print('Такого документа нет')"
   ]
  },
  {
   "cell_type": "code",
   "execution_count": 3,
   "metadata": {},
   "outputs": [],
   "source": [
    "def def_s (doc_number):\n",
    "    c = 0\n",
    "    x = 0\n",
    "    l = len(directories)\n",
    "    for k,v in directories.items():\n",
    "        for i in v:\n",
    "            if i == doc_number:\n",
    "                print('Номер стелажа:',k)\n",
    "                x = 1\n",
    "                break\n",
    "            else:\n",
    "                continue\n",
    "        if x == 1:\n",
    "            break\n",
    "        else:\n",
    "            c += 1\n",
    "            continue\n",
    "    if c == l:\n",
    "        print('Такого документа нет')"
   ]
  },
  {
   "cell_type": "code",
   "execution_count": 4,
   "metadata": {},
   "outputs": [],
   "source": [
    "def def_l ():\n",
    "    for i in documents:\n",
    "        a = \"\\\"\"+str(i['number'])+\"\\\"\"\n",
    "        b = \"\\\"\"+str(i['name'])+\"\\\"\"\n",
    "        print(i['type'], a, b)"
   ]
  },
  {
   "cell_type": "code",
   "execution_count": 5,
   "metadata": {},
   "outputs": [],
   "source": [
    "def def_as (sh):    \n",
    "    if sh not in directories.keys():\n",
    "        directories[sh] = []\n",
    "        print('Новая полка добавлена!')\n",
    "    else:\n",
    "        print('Такая полка уже существует') "
   ]
  },
  {
   "cell_type": "code",
   "execution_count": 6,
   "metadata": {},
   "outputs": [],
   "source": [
    "def def_d (doc_number):\n",
    "    c = 0\n",
    "    l = len(documents)\n",
    "    for i in documents:\n",
    "        if doc_number == i['number']:\n",
    "            documents.remove(i)\n",
    "            break\n",
    "        else:\n",
    "            c += 1\n",
    "            continue  \n",
    "    for v in directories.values():\n",
    "        for j in v:\n",
    "            if j == doc_number:\n",
    "                v.remove(j)\n",
    "                print('Документ удален')\n",
    "                break\n",
    "            else: \n",
    "                continue\n",
    "    if c == l:\n",
    "        print('Такого документа нет') "
   ]
  },
  {
   "cell_type": "code",
   "execution_count": 15,
   "metadata": {},
   "outputs": [],
   "source": [
    "def def_m (doc_number, sh):\n",
    "    c = 0\n",
    "    l = len(documents)\n",
    "    for k,v in directories.items():\n",
    "        if doc_number in v:\n",
    "            if sh in directories.keys(): \n",
    "                for v in directories.values():\n",
    "                    for j in v:\n",
    "                        if j == doc_number:\n",
    "                            v.remove(j)\n",
    "                        else:\n",
    "                            c += 1\n",
    "                            continue\n",
    "                if c != l:\n",
    "                    directories[sh].append(doc_number)\n",
    "                    print('Документ перенесен')\n",
    "#                else:\n",
    "#                    print('Такого документа нет')\n",
    "            else:\n",
    "                print('Такой полки нет')\n",
    "            break\n",
    "        else:\n",
    "            print('Такого документа нет')\n",
    "            if sh not in directories.keys():\n",
    "                print('Такой полки нет')\n",
    "            break"
   ]
  },
  {
   "cell_type": "code",
   "execution_count": 22,
   "metadata": {},
   "outputs": [],
   "source": [
    "def def_a (doc_type, doc_number, man, sh):\n",
    "    dict_ = {}\n",
    "    if sh not in directories.keys():\n",
    "        print('Такого номера полки нет')\n",
    "    else:    \n",
    "        dict_['type'] = doc_type\n",
    "        dict_['number'] = doc_number\n",
    "        dict_['name'] = man\n",
    "        documents.append(dict_)\n",
    "        directories[sh].append(doc_number)\n",
    "        print('Новые данные добавлены!')"
   ]
  },
  {
   "cell_type": "code",
   "execution_count": 27,
   "metadata": {},
   "outputs": [
    {
     "name": "stdout",
     "output_type": "stream",
     "text": [
      "Введите команду:a\n",
      "Введите тип документа:passport\n",
      "Введите номер документа:4353\n",
      "Введите имя человека:Сергей Иванович 4\n",
      "Введите номер полки:4\n",
      "Такого номера полки нет\n"
     ]
    }
   ],
   "source": [
    "comand = input('Введите команду:')\n",
    "if comand == 'p':\n",
    "    doc_number = input('Введите номер документа:')\n",
    "    def_p(doc_number)\n",
    "elif comand == 's': \n",
    "    doc_number = input('Введите номер документа:')\n",
    "    def_s(doc_number)\n",
    "elif comand == 'l': \n",
    "    def_l()\n",
    "elif comand == 'sh':\n",
    "    sh = input('Введите номер полки:')\n",
    "    def_as(sh)\n",
    "elif comand == 'd': \n",
    "    doc_number = input('Введите номер документа:')\n",
    "    def_d(doc_number)\n",
    "elif comand == 'm':\n",
    "    doc_number = input('Введите номер документа:')\n",
    "    sh = input('Введите номер полки:')\n",
    "    def_m (doc_number, sh)\n",
    "elif comand == 'a':\n",
    "    doc_type = input('Введите тип документа:')\n",
    "    doc_number = input('Введите номер документа:')\n",
    "    man = input('Введите имя человека:')\n",
    "    sh = input('Введите номер полки:')\n",
    "    def_a (doc_type, doc_number, man, sh)\n",
    "else:\n",
    "    print('Такой команды не существует')"
   ]
  },
  {
   "cell_type": "markdown",
   "metadata": {},
   "source": []
  },
  {
   "cell_type": "code",
   "execution_count": 28,
   "metadata": {},
   "outputs": [
    {
     "data": {
      "text/plain": [
       "{'1': ['2207 876234', '5455 028765'],\n",
       " '2': ['10006', '5400 028765', '5455 002299', '11-2'],\n",
       " '3': ['34545']}"
      ]
     },
     "execution_count": 28,
     "metadata": {},
     "output_type": "execute_result"
    }
   ],
   "source": [
    "directories"
   ]
  },
  {
   "cell_type": "code",
   "execution_count": 29,
   "metadata": {},
   "outputs": [
    {
     "data": {
      "text/plain": [
       "[{'type': 'passport', 'number': '2207 876234', 'name': 'Василий Гупкин'},\n",
       " {'type': 'invoice', 'number': '11-2', 'name': 'Геннадий Покемонов'},\n",
       " {'type': 'insurance', 'number': '10006', 'name': 'Аристарх Павлов'},\n",
       " {'type': 'passport', 'number': '34545', 'name': 'Иван Петрович'}]"
      ]
     },
     "execution_count": 29,
     "metadata": {},
     "output_type": "execute_result"
    }
   ],
   "source": [
    "documents"
   ]
  },
  {
   "cell_type": "code",
   "execution_count": null,
   "metadata": {},
   "outputs": [],
   "source": []
  }
 ],
 "metadata": {
  "kernelspec": {
   "display_name": "Python 3",
   "language": "python",
   "name": "python3"
  },
  "language_info": {
   "codemirror_mode": {
    "name": "ipython",
    "version": 3
   },
   "file_extension": ".py",
   "mimetype": "text/x-python",
   "name": "python",
   "nbconvert_exporter": "python",
   "pygments_lexer": "ipython3",
   "version": "3.7.3"
  }
 },
 "nbformat": 4,
 "nbformat_minor": 2
}
